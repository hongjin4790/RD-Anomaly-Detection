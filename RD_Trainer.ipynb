{
 "cells": [
  {
   "cell_type": "code",
   "execution_count": 15,
   "id": "f926c5c5",
   "metadata": {},
   "outputs": [
    {
     "data": {
      "text/plain": [
       "True"
      ]
     },
     "execution_count": 15,
     "metadata": {},
     "output_type": "execute_result"
    }
   ],
   "source": [
    "import torch\n",
    "\n",
    "torch.cuda.is_available()"
   ]
  },
  {
   "cell_type": "markdown",
   "id": "f91274ef",
   "metadata": {},
   "source": [
    "# 데이터셋 선택 및 하이퍼파라미터 설정\n",
    "▼▼▼▼▼▼▼▼▼▼▼▼▼▼▼▼▼▼▼▼▼▼▼▼▼▼▼▼▼▼▼▼▼▼"
   ]
  },
  {
   "cell_type": "code",
   "execution_count": 1,
   "id": "0c52a3f4",
   "metadata": {},
   "outputs": [
    {
     "name": "stdout",
     "output_type": "stream",
     "text": [
      "다음 데이터셋들이 학습됩니다 :  ['bottle', 'cable', 'capsule', 'carpet', 'grid', 'hazelnut', 'leather', 'metal_nut', 'pill', 'screw', 'tile', 'toothbrush', 'transistor', 'wood', 'zipper']\n"
     ]
    }
   ],
   "source": [
    "import time\n",
    "import natsort\n",
    "import os\n",
    "\n",
    "folder_list = os.listdir(\"./data/\")\n",
    "item_list = natsort.natsorted(folder_list)\n",
    "\n",
    "print(\"다음 데이터셋들이 학습됩니다 : \", item_list)"
   ]
  },
  {
   "cell_type": "code",
   "execution_count": null,
   "id": "bedc091c",
   "metadata": {},
   "outputs": [],
   "source": [
    "#최소10, 200~400 추천, 10단위로 pth가 저장됨\n",
    "epochs = 200\n",
    "batch_size = 16\n",
    "\n",
    "learning_rate = 0.005\n",
    "image_size = 256"
   ]
  },
  {
   "cell_type": "markdown",
   "id": "3414afa4",
   "metadata": {},
   "source": [
    "▲▲▲▲▲▲▲▲▲▲▲▲▲▲▲▲▲▲▲▲▲▲▲▲▲▲▲▲▲▲▲▲▲▲"
   ]
  },
  {
   "cell_type": "markdown",
   "id": "549ba101",
   "metadata": {},
   "source": [
    "# Main.py"
   ]
  },
  {
   "cell_type": "code",
   "execution_count": null,
   "id": "c20f67d8",
   "metadata": {},
   "outputs": [],
   "source": [
    "import torch\n",
    "from dataset import get_data_transforms\n",
    "from torchvision.datasets import ImageFolder\n",
    "import numpy as np\n",
    "import random\n",
    "import os\n",
    "from torch.utils.data import DataLoader\n",
    "from resnet import  wide_resnet50_2\n",
    "from de_resnet import de_wide_resnet50_2\n",
    "from dataset import RD_Dataset\n",
    "import torch.backends.cudnn as cudnn\n",
    "import argparse\n",
    "from torch.nn import functional as F"
   ]
  },
  {
   "cell_type": "code",
   "execution_count": 4,
   "id": "e9913144",
   "metadata": {},
   "outputs": [],
   "source": [
    "def setup_seed(seed):\n",
    "    torch.manual_seed(seed)\n",
    "    torch.cuda.manual_seed_all(seed)\n",
    "    np.random.seed(seed)\n",
    "    random.seed(seed)\n",
    "    torch.backends.cudnn.deterministic = True\n",
    "    torch.backends.cudnn.benchmark = False"
   ]
  },
  {
   "cell_type": "code",
   "execution_count": null,
   "id": "1a1f6b16",
   "metadata": {},
   "outputs": [],
   "source": [
    "def loss_fucntion(a, b):\n",
    "    cos_loss = torch.nn.CosineSimilarity()\n",
    "    loss = 0\n",
    "    for item in range(len(a)):\n",
    "        loss += torch.mean(1-cos_loss(a[item].view(a[item].shape[0],-1),\n",
    "                                      b[item].view(b[item].shape[0],-1)))\n",
    "    return loss"
   ]
  },
  {
   "cell_type": "code",
   "execution_count": null,
   "id": "d1cf0108",
   "metadata": {},
   "outputs": [],
   "source": [
    "def loss_concat(a, b):\n",
    "    mse_loss = torch.nn.MSELoss()\n",
    "    cos_loss = torch.nn.CosineSimilarity()\n",
    "    loss = 0\n",
    "    a_map = []\n",
    "    b_map = []\n",
    "    size = a[0].shape[-1]\n",
    "    for item in range(len(a)):\n",
    "        a_map.append(F.interpolate(a[item], size=size, mode='bilinear', align_corners=True))\n",
    "        b_map.append(F.interpolate(b[item], size=size, mode='bilinear', align_corners=True))\n",
    "    a_map = torch.cat(a_map,1)\n",
    "    b_map = torch.cat(b_map,1)\n",
    "    loss += torch.mean(1-cos_loss(a_map,b_map))\n",
    "    return loss"
   ]
  },
  {
   "cell_type": "code",
   "execution_count": null,
   "id": "bb708b5c",
   "metadata": {},
   "outputs": [],
   "source": [
    "def train(_class_):\n",
    "    print(_class_)\n",
    "        \n",
    "    device = 'cuda' if torch.cuda.is_available() else 'cpu'\n",
    "    print(device)\n",
    "\n",
    "    data_transform = get_data_transforms(image_size, image_size)\n",
    "    \n",
    "    train_path = './data/' + _class_ + '/train'\n",
    "    ckp_path = './checkpoints/' + 'wres50_'+_class_+'.pth'\n",
    "    \n",
    "    train_data = ImageFolder(root=train_path, transform=data_transform)\n",
    "    train_dataloader = torch.utils.data.DataLoader(train_data, batch_size=batch_size, shuffle=True)\n",
    "\n",
    "    encoder, bn = wide_resnet50_2(pretrained=True)\n",
    "    encoder = encoder.to(device)\n",
    "    bn = bn.to(device)\n",
    "    encoder.eval()\n",
    "    decoder = de_wide_resnet50_2(pretrained=False)\n",
    "    decoder = decoder.to(device)\n",
    "\n",
    "    optimizer = torch.optim.Adam(list(decoder.parameters())+list(bn.parameters()), lr=learning_rate, betas=(0.5,0.999))\n",
    "\n",
    "\n",
    "    for epoch in range(epochs):\n",
    "        start = time.time() \n",
    "        \n",
    "        bn.train()\n",
    "        decoder.train()\n",
    "        loss_list = []\n",
    "        for img, label in train_dataloader:\n",
    "            img = img.to(device)\n",
    "            inputs = encoder(img)\n",
    "            outputs = decoder(bn(inputs))\n",
    "            loss = loss_fucntion(inputs, outputs)\n",
    "            optimizer.zero_grad()\n",
    "            loss.backward()\n",
    "            optimizer.step()\n",
    "            loss_list.append(loss.item())\n",
    "        print('epoch [{}/{}], loss:{:.4f}'.format(epoch + 1, epochs, np.mean(loss_list)))\n",
    "        print(\"time :\",time.time() - start)  # 현재시각 - 시작시간 = 실행 시간\n",
    "        \n",
    "        if (epoch + 1) % 10 == 0:\n",
    "            torch.save({'bn': bn.state_dict(),'decoder': decoder.state_dict()}, ckp_path)\n",
    "            \n",
    "    return loss"
   ]
  },
  {
   "cell_type": "markdown",
   "id": "5fb3b48e",
   "metadata": {},
   "source": [
    "# 학습 시작"
   ]
  },
  {
   "cell_type": "code",
   "execution_count": 12,
   "id": "5458778a",
   "metadata": {},
   "outputs": [],
   "source": [
    "setup_seed(111)\n",
    "\n",
    "import warnings\n",
    "warnings.simplefilter(action='ignore', category=FutureWarning)"
   ]
  },
  {
   "cell_type": "code",
   "execution_count": 13,
   "id": "2da1398e",
   "metadata": {
    "scrolled": true
   },
   "outputs": [
    {
     "name": "stdout",
     "output_type": "stream",
     "text": [
      "hazelnut\n",
      "cuda\n",
      "epoch [1/10], loss:0.9380\n",
      "time : 57.73496961593628\n",
      "epoch [2/10], loss:0.5681\n",
      "time : 38.83104968070984\n",
      "epoch [3/10], loss:0.4682\n",
      "time : 45.24616718292236\n",
      "epoch [4/10], loss:0.4185\n",
      "time : 46.11638784408569\n",
      "epoch [5/10], loss:0.3803\n",
      "time : 39.50839972496033\n",
      "epoch [6/10], loss:0.3532\n",
      "time : 49.41082715988159\n",
      "epoch [7/10], loss:0.3326\n",
      "time : 49.57550024986267\n",
      "epoch [8/10], loss:0.3167\n",
      "time : 47.884011030197144\n",
      "epoch [9/10], loss:0.3033\n",
      "time : 61.98079538345337\n",
      "epoch [10/10], loss:0.2911\n",
      "time : 50.9464898109436\n",
      "hazelnut time : 489.9562199115753\n"
     ]
    }
   ],
   "source": [
    "#학습\n",
    "for i in item_list:\n",
    "    start_class = time.time()  # 시작 시간 저장\n",
    "\n",
    "    train(i)\n",
    "    print(i, \"time :\",time.time() - start_class)  # 현재시각 - 시작시간 = 실행 시간"
   ]
  },
  {
   "cell_type": "code",
   "execution_count": null,
   "id": "8e2caf83",
   "metadata": {},
   "outputs": [],
   "source": []
  }
 ],
 "metadata": {
  "kernelspec": {
   "display_name": "Python 3 (ipykernel)",
   "language": "python",
   "name": "python3"
  },
  "language_info": {
   "codemirror_mode": {
    "name": "ipython",
    "version": 3
   },
   "file_extension": ".py",
   "mimetype": "text/x-python",
   "name": "python",
   "nbconvert_exporter": "python",
   "pygments_lexer": "ipython3",
   "version": "3.8.18"
  }
 },
 "nbformat": 4,
 "nbformat_minor": 5
}
